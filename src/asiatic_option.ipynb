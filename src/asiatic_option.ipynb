{
 "cells": [
  {
   "cell_type": "markdown",
   "metadata": {},
   "source": [
    "# ASIATIC OPTION PRICING\n"
   ]
  },
  {
   "cell_type": "code",
   "execution_count": null,
   "metadata": {},
   "outputs": [],
   "source": [
    "import numpy as np\n",
    "import matplotlib.pyplot as plt\n",
    "import pandas as pd\n",
    "import yfinance as yf\n",
    "\n",
    "\n",
    "\n",
    "\n",
    "\n"
   ]
  },
  {
   "cell_type": "markdown",
   "metadata": {},
   "source": [
    "## DEFINE PARAMETERS"
   ]
  },
  {
   "cell_type": "code",
   "execution_count": 14,
   "metadata": {},
   "outputs": [],
   "source": [
    "# PARAMETERS\n",
    "M = 100 # number of simulation by the M.C method\n",
    "T = 1 # maturity\n",
    "K = 270.0\n",
    "S0 = 250.0 \n",
    "r = 0.035 \n",
    "sigma = 0.03 \n",
    "n = 1000 # number of values to get to compute the mean of S\n",
    "dt = T / n\n",
    "\n",
    "\n",
    "\n",
    "\n"
   ]
  },
  {
   "cell_type": "markdown",
   "metadata": {},
   "source": [
    "## RANDOM WALKING : PRICE SIMULATION"
   ]
  },
  {
   "cell_type": "code",
   "execution_count": null,
   "metadata": {},
   "outputs": [
    {
     "name": "stdout",
     "output_type": "stream",
     "text": [
      "[[250.  -1.  -1. ...  -1.  -1.  -1.]\n",
      " [250.  -1.  -1. ...  -1.  -1.  -1.]\n",
      " [250.  -1.  -1. ...  -1.  -1.  -1.]\n",
      " ...\n",
      " [250.  -1.  -1. ...  -1.  -1.  -1.]\n",
      " [250.  -1.  -1. ...  -1.  -1.  -1.]\n",
      " [250.  -1.  -1. ...  -1.  -1.  -1.]]\n"
     ]
    }
   ],
   "source": [
    "np.random.seed(42) # the number of life\n",
    "S = -1.0 * np.ones((M,n)) # initialization of the matrix\n",
    "S[:,0] = S0\n",
    "\n"
   ]
  }
 ],
 "metadata": {
  "kernelspec": {
   "display_name": "Python 3",
   "language": "python",
   "name": "python3"
  },
  "language_info": {
   "codemirror_mode": {
    "name": "ipython",
    "version": 3
   },
   "file_extension": ".py",
   "mimetype": "text/x-python",
   "name": "python",
   "nbconvert_exporter": "python",
   "pygments_lexer": "ipython3",
   "version": "3.12.3"
  }
 },
 "nbformat": 4,
 "nbformat_minor": 2
}
