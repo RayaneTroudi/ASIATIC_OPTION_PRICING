{
 "cells": [
  {
   "cell_type": "code",
   "execution_count": 2,
   "id": "f5f49413",
   "metadata": {},
   "outputs": [],
   "source": [
    "# résolution de l'EDP de Black-Scholes par différences finies\n",
    "\n",
    "# librairies\n",
    "import numpy as np\n",
    "import matplotlib.pyplot as plt\n",
    "from scipy.stats import norm\n",
    "import scipy\n",
    "import time\n"
   ]
  },
  {
   "cell_type": "code",
   "execution_count": 3,
   "id": "2a01c20e",
   "metadata": {},
   "outputs": [],
   "source": [
    "# paramètres financiers\n",
    "S0 = 247.12\n",
    "r = 0.035\n",
    "sigma = 0.2\n",
    "T = 2.\n",
    "K = 269.99"
   ]
  },
  {
   "cell_type": "code",
   "execution_count": 4,
   "id": "892f1022",
   "metadata": {},
   "outputs": [
    {
     "name": "stdout",
     "output_type": "stream",
     "text": [
      "Les pas de temps et prix sont: 0.002 0.1\n"
     ]
    }
   ],
   "source": [
    "# paramètres numériques\n",
    "N = 10000 # nb de points en prix\n",
    "M = 1000 # nb de points en temps\n",
    "Smax = 1000 # prix maximum pour la résolution\n",
    "dt = T/M\n",
    "ds = Smax/N\n",
    "print(\"Les pas de temps et prix sont:\",dt,ds)"
   ]
  },
  {
   "cell_type": "code",
   "execution_count": 5,
   "id": "d8b077aa",
   "metadata": {},
   "outputs": [],
   "source": [
    "# initialisation de la matrice C (valeurs de l'option)\n",
    "C = np.zeros((M+1,N+1))\n",
    "# tableau des prix S\n",
    "S = ds*np.arange(N+1)\n",
    "# tableau des temps t\n",
    "t = dt*np.arange(M+1)\n",
    "# prix finaux t=T\n",
    "C[M,:] = np.maximum(S-K,0)\n",
    "# conditions aux bords en prix\n",
    "C[:,0] = 0.\n",
    "C[:,N] = Smax-K*np.exp(-r*(T-t))"
   ]
  },
  {
   "cell_type": "code",
   "execution_count": 6,
   "id": "74e1f99f",
   "metadata": {},
   "outputs": [
    {
     "data": {
      "text/plain": [
       "array([0.000e+00, 1.000e-01, 2.000e-01, ..., 9.998e+02, 9.999e+02,\n",
       "       1.000e+03])"
      ]
     },
     "execution_count": 6,
     "metadata": {},
     "output_type": "execute_result"
    }
   ],
   "source": [
    "C\n",
    "S"
   ]
  },
  {
   "cell_type": "code",
   "execution_count": 7,
   "id": "e555d534",
   "metadata": {},
   "outputs": [
    {
     "name": "stdout",
     "output_type": "stream",
     "text": [
      "[[-5.00110000e+02  5.50000000e-02  0.00000000e+00 ...  0.00000000e+00\n",
      "   0.00000000e+00  0.00000000e+00]\n",
      " [ 8.00000000e-02 -5.00265000e+02  1.50000000e-01 ...  0.00000000e+00\n",
      "   0.00000000e+00  0.00000000e+00]\n",
      " [ 0.00000000e+00  1.80000000e-01 -5.00500000e+02 ...  0.00000000e+00\n",
      "   0.00000000e+00  0.00000000e+00]\n",
      " ...\n",
      " [ 0.00000000e+00  0.00000000e+00  0.00000000e+00 ... -3.99845029e+06\n",
      "   1.99915008e+06  0.00000000e+00]\n",
      " [ 0.00000000e+00  0.00000000e+00  0.00000000e+00 ...  1.99920008e+06\n",
      "  -3.99925013e+06  1.99955001e+06]\n",
      " [ 0.00000000e+00  0.00000000e+00  0.00000000e+00 ...  0.00000000e+00\n",
      "   1.99960002e+06 -4.00005004e+06]]\n"
     ]
    }
   ],
   "source": [
    "# matrice du système linéaire (qui ne dépend pas du temps)\n",
    "#A = np.zeros((N-1,N-1))\n",
    "A = np.diag(-1/dt - (sigma**2/ds**2)*S[1:N]**2 - r*S[1:N]/ds - r) \\\n",
    "   +np.diag(0.5*(sigma/ds)**2*S[1:N-1]**2 + r/ds*S[1:N-1],1) \\\n",
    "   +np.diag(0.5*(sigma/ds)**2*S[2:N]**2,-1)\n",
    "   \n",
    "print(A)"
   ]
  },
  {
   "cell_type": "code",
   "execution_count": 8,
   "id": "a5b97300",
   "metadata": {},
   "outputs": [
    {
     "name": "stdout",
     "output_type": "stream",
     "text": [
      "9.96058177947998\n"
     ]
    }
   ],
   "source": [
    "# on lance le chronomètre\n",
    "start = time.time()\n",
    "# boucle en temps \n",
    "M=2\n",
    "for i in range(M-1,-1,-1):\n",
    "    # vecteur du second membre\n",
    "    b = -1/dt*C[i+1,1:N]\n",
    "    # ajout des conditions aux bords\n",
    "    b[0] += -0.5*(sigma/ds)**2*S[1]**2*C[i,0]\n",
    "    b[N-2] += (-0.5*(sigma/ds)**2*S[N-1]**2 - r/ds*S[N-1])*C[i,N]\n",
    "    # résolution du système Ax=b\n",
    "    C[i,1:N] = np.linalg.solve(A,b)\n",
    "end = time.time()\n",
    "print(end-start)"
   ]
  },
  {
   "cell_type": "code",
   "execution_count": 10,
   "id": "959d63ab",
   "metadata": {},
   "outputs": [
    {
     "data": {
      "text/plain": [
       "array([  0.        ,   0.        ,   0.        , ..., 736.48672374,\n",
       "       742.37463682, 748.26299256])"
      ]
     },
     "execution_count": 10,
     "metadata": {},
     "output_type": "execute_result"
    }
   ],
   "source": [
    "# valeur de l'option à l'instant 0 (à la signature) pour différents prix d'actif\n",
    "C[0,:]"
   ]
  },
  {
   "cell_type": "code",
   "execution_count": 11,
   "id": "d8a79a61",
   "metadata": {},
   "outputs": [
    {
     "name": "stderr",
     "output_type": "stream",
     "text": [
      "/var/folders/pp/zbmy8_b11y75wbkpn2p486qr0000gn/T/ipykernel_4842/513708623.py:2: RuntimeWarning: divide by zero encountered in log\n",
      "  C0exact = S*norm.cdf((np.log(S/K)+(r+0.5*sigma**2)*T)/(sigma*np.sqrt(T))) \\\n",
      "/var/folders/pp/zbmy8_b11y75wbkpn2p486qr0000gn/T/ipykernel_4842/513708623.py:3: RuntimeWarning: divide by zero encountered in log\n",
      "  -K*np.exp(-r*T)*norm.cdf((np.log(S/K)+(r-0.5*sigma**2)*T)/(sigma*np.sqrt(T)))\n"
     ]
    }
   ],
   "source": [
    "# valeur exacte de la solution\n",
    "C0exact = S*norm.cdf((np.log(S/K)+(r+0.5*sigma**2)*T)/(sigma*np.sqrt(T))) \\\n",
    "          -K*np.exp(-r*T)*norm.cdf((np.log(S/K)+(r-0.5*sigma**2)*T)/(sigma*np.sqrt(T)))"
   ]
  },
  {
   "cell_type": "code",
   "execution_count": 12,
   "id": "a642f5a1",
   "metadata": {},
   "outputs": [
    {
     "data": {
      "text/plain": [
       "[<matplotlib.lines.Line2D at 0x14835f950>]"
      ]
     },
     "execution_count": 12,
     "metadata": {},
     "output_type": "execute_result"
    },
    {
     "data": {
      "image/png": "[encoded data removed]",
      "text/plain": [
       "<Figure size 640x480 with 1 Axes>"
      ]
     },
     "metadata": {},
     "output_type": "display_data"
    }
   ],
   "source": [
    "plt.plot(S,C[0,:])\n",
    "plt.plot(S,C0exact)"
   ]
  },
  {
   "cell_type": "code",
   "execution_count": null,
   "id": "a8dc2c05",
   "metadata": {},
   "outputs": [],
   "source": [
    "max(abs(C[0,:]-C0exact))"
   ]
  },
  {
   "cell_type": "code",
   "execution_count": null,
   "id": "56563b09",
   "metadata": {},
   "outputs": [],
   "source": [
    "C0exact"
   ]
  },
  {
   "cell_type": "code",
   "execution_count": null,
   "id": "ad72ad70",
   "metadata": {},
   "outputs": [],
   "source": [
    "# changement de schéma => explicite en temps\n",
    "\n",
    "# initialisation de la matrice C2 (valeurs de l'option)\n",
    "C2 = np.zeros((M+1,N+1))\n",
    "# tableau des prix S\n",
    "S = ds*np.arange(N+1)\n",
    "# tableau des temps t\n",
    "t = dt*np.arange(M+1)\n",
    "# prix finaux t=T\n",
    "C2[M,:] = np.maximum(S-K,0)\n",
    "# conditions aux bords en prix\n",
    "C2[:,0] = 0.\n",
    "C2[:,N] = Smax-K*np.exp(-r*(T-t))"
   ]
  },
  {
   "cell_type": "code",
   "execution_count": null,
   "id": "ec0557b0",
   "metadata": {},
   "outputs": [],
   "source": [
    "# on lance le chronomètre\n",
    "start = time.time()\n",
    "# boucle en temps \n",
    "for i in range(M-1,-1,-1):\n",
    "    # boucle en prix\n",
    "    for j in range(1,N):\n",
    "        C2[i,j] = C2[i+1,j]+dt*(0.5*sigma**2*S[j]**2*(C2[i+1,j+1]-2*C2[i+1,j]+C2[i+1,j-1])/ds**2 \\\n",
    "                   +r*S[j]*(C2[i+1,j+1]-C2[i+1,j])/ds-r*C2[i+1,j])\n",
    "end = time.time()\n",
    "print(end-start)"
   ]
  },
  {
   "cell_type": "code",
   "execution_count": null,
   "id": "03d20228",
   "metadata": {},
   "outputs": [],
   "source": [
    "plt.plot(S,C2[0,:])\n",
    "plt.plot(S,C0exact)"
   ]
  },
  {
   "cell_type": "code",
   "execution_count": null,
   "id": "3b808ce4",
   "metadata": {},
   "outputs": [],
   "source": [
    "max(abs(C2[0,:]-C0exact))"
   ]
  },
  {
   "cell_type": "code",
   "execution_count": null,
   "id": "47649291",
   "metadata": {},
   "outputs": [],
   "source": [
    "C2"
   ]
  },
  {
   "cell_type": "code",
   "execution_count": null,
   "id": "9e91bacf",
   "metadata": {},
   "outputs": [],
   "source": [
    "# étude de stabilité de la matrice du schéma explicite\n",
    "A2 = np.diag(1 - dt*(sigma**2/ds**2)*S[1:N]**2 - dt*r*S[1:N]/ds - dt*r) \\\n",
    "   +np.diag(dt*0.5*(sigma/ds)**2*S[1:N-1]**2 + dt*r/ds*S[1:N-1],1) \\\n",
    "   +np.diag(dt*0.5*(sigma/ds)**2*S[2:N]**2,-1)"
   ]
  },
  {
   "cell_type": "code",
   "execution_count": null,
   "id": "11052a54",
   "metadata": {},
   "outputs": [],
   "source": [
    "np.linalg.eig(A2)"
   ]
  },
  {
   "cell_type": "code",
   "execution_count": null,
   "id": "c0eac6c1",
   "metadata": {},
   "outputs": [],
   "source": [
    "0.9**100"
   ]
  },
  {
   "cell_type": "code",
   "execution_count": null,
   "id": "8f63d7e3",
   "metadata": {},
   "outputs": [],
   "source": [
    "np.linalg.eig(-dt*A)"
   ]
  },
  {
   "cell_type": "code",
   "execution_count": null,
   "id": "d8f59b13",
   "metadata": {},
   "outputs": [],
   "source": [
    "1/(sigma**2*Smax**2)"
   ]
  },
  {
   "cell_type": "code",
   "execution_count": null,
   "id": "419eff82",
   "metadata": {},
   "outputs": [],
   "source": [
    "# on joue avec la méthode implicite\n",
    "start = time.time()\n",
    "# boucle en temps \n",
    "M=2\n",
    "for i in range(M-1,-1,-1):\n",
    "    # vecteur du second membre\n",
    "    b = -1/dt*C[i+1,1:N]\n",
    "    # ajout des conditions aux bords\n",
    "    b[0] += -0.5*(sigma/ds)**2*S[1]**2*C[i,0]\n",
    "    b[N-2] += (-0.5*(sigma/ds)**2*S[N-1]**2 - r/ds*S[N-1])*C[i,N]\n",
    "    # résolution du système Ax=b\n",
    "    C[i,1:N] = np.linalg.solve(A,b)\n",
    "end = time.time()\n",
    "print(end-start)"
   ]
  },
  {
   "cell_type": "code",
   "execution_count": null,
   "id": "6efd28d8",
   "metadata": {},
   "outputs": [],
   "source": [
    "start = time.time()\n",
    "# boucle en temps \n",
    "M=2\n",
    "for i in range(M-1,-1,-1):\n",
    "    # vecteur du second membre\n",
    "    b = -1/dt*C[i+1,1:N]\n",
    "    # ajout des conditions aux bords\n",
    "    b[0] += -0.5*(sigma/ds)**2*S[1]**2*C[i,0]\n",
    "    b[N-2] += (-0.5*(sigma/ds)**2*S[N-1]**2 - r/ds*S[N-1])*C[i,N]\n",
    "    # résolution du système Ax=b\n",
    "    C[i,1:N] = scipy.linalg.solve(A,b)\n",
    "end = time.time()\n",
    "print(end-start)"
   ]
  },
  {
   "cell_type": "code",
   "execution_count": null,
   "id": "0a88d82d",
   "metadata": {},
   "outputs": [],
   "source": [
    "L,U = scipy.linalg.lu(A,permute_l=T)"
   ]
  },
  {
   "cell_type": "code",
   "execution_count": null,
   "id": "cd1e9527",
   "metadata": {},
   "outputs": [],
   "source": []
  }
 ],
 "metadata": {
  "kernelspec": {
   "display_name": "Python 3",
   "language": "python",
   "name": "python3"
  },
  "language_info": {
   "codemirror_mode": {
    "name": "ipython",
    "version": 3
   },
   "file_extension": ".py",
   "mimetype": "text/x-python",
   "name": "python",
   "nbconvert_exporter": "python",
   "pygments_lexer": "ipython3",
   "version": "3.12.3"
  }
 },
 "nbformat": 4,
 "nbformat_minor": 5
}
