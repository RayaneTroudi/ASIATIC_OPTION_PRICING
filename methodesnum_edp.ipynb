{
 "cells": [
  {
   "cell_type": "code",
   "execution_count": 70,
   "id": "f5f49413",
   "metadata": {},
   "outputs": [],
   "source": [
    "# résolution de l'EDP de Black-Scholes par différences finies\n",
    "\n",
    "# librairies\n",
    "import numpy as np\n",
    "import matplotlib.pyplot as plt\n",
    "from scipy.stats import norm\n",
    "import time"
   ]
  },
  {
   "cell_type": "code",
   "execution_count": 3,
   "id": "2a01c20e",
   "metadata": {},
   "outputs": [],
   "source": [
    "# paramètres financiers\n",
    "S0 = 247.12\n",
    "r = 0.035\n",
    "sigma = 0.2\n",
    "T = 2.\n",
    "K = 269.99"
   ]
  },
  {
   "cell_type": "code",
   "execution_count": 116,
   "id": "892f1022",
   "metadata": {},
   "outputs": [
    {
     "name": "stdout",
     "output_type": "stream",
     "text": [
      "Les pas de temps et prix sont: 2e-05 1.0\n"
     ]
    }
   ],
   "source": [
    "# paramètres numériques\n",
    "N = 1000 # nb de points en prix\n",
    "M = 100000 # nb de points en temps\n",
    "Smax = 1000 # prix maximum pour la résolution\n",
    "dt = T/M\n",
    "ds = Smax/N\n",
    "print(\"Les pas de temps et prix sont:\",dt,ds)"
   ]
  },
  {
   "cell_type": "code",
   "execution_count": 83,
   "id": "d8b077aa",
   "metadata": {},
   "outputs": [],
   "source": [
    "# initialisation de la matrice C (valeurs de l'option)\n",
    "C = np.zeros((M+1,N+1))\n",
    "# tableau des prix S\n",
    "S = ds*np.arange(N+1)\n",
    "# tableau des temps t\n",
    "t = dt*np.arange(M+1)\n",
    "# prix finaux t=T\n",
    "C[M,:] = np.maximum(S-K,0)\n",
    "# conditions aux bords en prix\n",
    "C[:,0] = 0.\n",
    "C[:,N] = Smax-K*np.exp(-r*(T-t))"
   ]
  },
  {
   "cell_type": "code",
   "execution_count": 84,
   "id": "74e1f99f",
   "metadata": {},
   "outputs": [
    {
     "data": {
      "text/plain": [
       "array([[  0.        ,   0.        ,   0.        , ...,   0.        ,\n",
       "          0.        , 748.26299256],\n",
       "       [  0.        ,   0.        ,   0.        , ...,   0.        ,\n",
       "          0.        , 748.08671497],\n",
       "       [  0.        ,   0.        ,   0.        , ...,   0.        ,\n",
       "          0.        , 747.91031394],\n",
       "       ...,\n",
       "       [  0.        ,   0.        ,   0.        , ...,   0.        ,\n",
       "          0.        , 730.38772153],\n",
       "       [  0.        ,   0.        ,   0.        , ...,   0.        ,\n",
       "          0.        , 730.19892687],\n",
       "       [  0.        ,   0.        ,   0.        , ..., 729.81      ,\n",
       "        729.91      , 730.01      ]])"
      ]
     },
     "execution_count": 84,
     "metadata": {},
     "output_type": "execute_result"
    }
   ],
   "source": [
    "C"
   ]
  },
  {
   "cell_type": "code",
   "execution_count": 85,
   "id": "e555d534",
   "metadata": {},
   "outputs": [],
   "source": [
    "# matrice du système linéaire (qui ne dépend pas du temps)\n",
    "#A = np.zeros((N-1,N-1))\n",
    "A = np.diag(-1/dt - (sigma**2/ds**2)*S[1:N]**2 - r*S[1:N]/ds - r) \\\n",
    "   +np.diag(0.5*(sigma/ds)**2*S[1:N-1]**2 + r/ds*S[1:N-1],1) \\\n",
    "   +np.diag(0.5*(sigma/ds)**2*S[2:N]**2,-1)"
   ]
  },
  {
   "cell_type": "code",
   "execution_count": 96,
   "id": "a5b97300",
   "metadata": {},
   "outputs": [
    {
     "ename": "ValueError",
     "evalue": "solve1: Input operand 1 has a mismatch in its core dimension 0, with gufunc signature (m,m),(m)->(m) (size 99 is different from 9999)",
     "output_type": "error",
     "traceback": [
      "\u001b[1;31m---------------------------------------------------------------------------\u001b[0m",
      "\u001b[1;31mValueError\u001b[0m                                Traceback (most recent call last)",
      "\u001b[1;32m<ipython-input-96-a28860f80dda>\u001b[0m in \u001b[0;36m<module>\u001b[1;34m\u001b[0m\n\u001b[0;32m      9\u001b[0m     \u001b[0mb\u001b[0m\u001b[1;33m[\u001b[0m\u001b[0mN\u001b[0m\u001b[1;33m-\u001b[0m\u001b[1;36m2\u001b[0m\u001b[1;33m]\u001b[0m \u001b[1;33m+=\u001b[0m \u001b[1;33m(\u001b[0m\u001b[1;33m-\u001b[0m\u001b[1;36m0.5\u001b[0m\u001b[1;33m*\u001b[0m\u001b[1;33m(\u001b[0m\u001b[0msigma\u001b[0m\u001b[1;33m/\u001b[0m\u001b[0mds\u001b[0m\u001b[1;33m)\u001b[0m\u001b[1;33m**\u001b[0m\u001b[1;36m2\u001b[0m\u001b[1;33m*\u001b[0m\u001b[0mS\u001b[0m\u001b[1;33m[\u001b[0m\u001b[0mN\u001b[0m\u001b[1;33m-\u001b[0m\u001b[1;36m1\u001b[0m\u001b[1;33m]\u001b[0m\u001b[1;33m**\u001b[0m\u001b[1;36m2\u001b[0m \u001b[1;33m-\u001b[0m \u001b[0mr\u001b[0m\u001b[1;33m/\u001b[0m\u001b[0mds\u001b[0m\u001b[1;33m*\u001b[0m\u001b[0mS\u001b[0m\u001b[1;33m[\u001b[0m\u001b[0mN\u001b[0m\u001b[1;33m-\u001b[0m\u001b[1;36m1\u001b[0m\u001b[1;33m]\u001b[0m\u001b[1;33m)\u001b[0m\u001b[1;33m*\u001b[0m\u001b[0mC\u001b[0m\u001b[1;33m[\u001b[0m\u001b[0mi\u001b[0m\u001b[1;33m,\u001b[0m\u001b[0mN\u001b[0m\u001b[1;33m]\u001b[0m\u001b[1;33m\u001b[0m\u001b[1;33m\u001b[0m\u001b[0m\n\u001b[0;32m     10\u001b[0m     \u001b[1;31m# résolution du système Ax=b\u001b[0m\u001b[1;33m\u001b[0m\u001b[1;33m\u001b[0m\u001b[1;33m\u001b[0m\u001b[0m\n\u001b[1;32m---> 11\u001b[1;33m     \u001b[0mC\u001b[0m\u001b[1;33m[\u001b[0m\u001b[0mi\u001b[0m\u001b[1;33m,\u001b[0m\u001b[1;36m1\u001b[0m\u001b[1;33m:\u001b[0m\u001b[0mN\u001b[0m\u001b[1;33m]\u001b[0m \u001b[1;33m=\u001b[0m \u001b[0mnp\u001b[0m\u001b[1;33m.\u001b[0m\u001b[0mlinalg\u001b[0m\u001b[1;33m.\u001b[0m\u001b[0msolve\u001b[0m\u001b[1;33m(\u001b[0m\u001b[0mA\u001b[0m\u001b[1;33m,\u001b[0m\u001b[0mb\u001b[0m\u001b[1;33m)\u001b[0m\u001b[1;33m\u001b[0m\u001b[1;33m\u001b[0m\u001b[0m\n\u001b[0m\u001b[0;32m     12\u001b[0m \u001b[0mend\u001b[0m \u001b[1;33m=\u001b[0m \u001b[0mtime\u001b[0m\u001b[1;33m.\u001b[0m\u001b[0mtime\u001b[0m\u001b[1;33m(\u001b[0m\u001b[1;33m)\u001b[0m\u001b[1;33m\u001b[0m\u001b[1;33m\u001b[0m\u001b[0m\n\u001b[0;32m     13\u001b[0m \u001b[0mprint\u001b[0m\u001b[1;33m(\u001b[0m\u001b[0mend\u001b[0m\u001b[1;33m-\u001b[0m\u001b[0mstart\u001b[0m\u001b[1;33m)\u001b[0m\u001b[1;33m\u001b[0m\u001b[1;33m\u001b[0m\u001b[0m\n",
      "\u001b[1;32m<__array_function__ internals>\u001b[0m in \u001b[0;36msolve\u001b[1;34m(*args, **kwargs)\u001b[0m\n",
      "\u001b[1;32mC:\\ProgramData\\Anaconda3\\lib\\site-packages\\numpy\\linalg\\linalg.py\u001b[0m in \u001b[0;36msolve\u001b[1;34m(a, b)\u001b[0m\n\u001b[0;32m    391\u001b[0m     \u001b[0msignature\u001b[0m \u001b[1;33m=\u001b[0m \u001b[1;34m'DD->D'\u001b[0m \u001b[1;32mif\u001b[0m \u001b[0misComplexType\u001b[0m\u001b[1;33m(\u001b[0m\u001b[0mt\u001b[0m\u001b[1;33m)\u001b[0m \u001b[1;32melse\u001b[0m \u001b[1;34m'dd->d'\u001b[0m\u001b[1;33m\u001b[0m\u001b[1;33m\u001b[0m\u001b[0m\n\u001b[0;32m    392\u001b[0m     \u001b[0mextobj\u001b[0m \u001b[1;33m=\u001b[0m \u001b[0mget_linalg_error_extobj\u001b[0m\u001b[1;33m(\u001b[0m\u001b[0m_raise_linalgerror_singular\u001b[0m\u001b[1;33m)\u001b[0m\u001b[1;33m\u001b[0m\u001b[1;33m\u001b[0m\u001b[0m\n\u001b[1;32m--> 393\u001b[1;33m     \u001b[0mr\u001b[0m \u001b[1;33m=\u001b[0m \u001b[0mgufunc\u001b[0m\u001b[1;33m(\u001b[0m\u001b[0ma\u001b[0m\u001b[1;33m,\u001b[0m \u001b[0mb\u001b[0m\u001b[1;33m,\u001b[0m \u001b[0msignature\u001b[0m\u001b[1;33m=\u001b[0m\u001b[0msignature\u001b[0m\u001b[1;33m,\u001b[0m \u001b[0mextobj\u001b[0m\u001b[1;33m=\u001b[0m\u001b[0mextobj\u001b[0m\u001b[1;33m)\u001b[0m\u001b[1;33m\u001b[0m\u001b[1;33m\u001b[0m\u001b[0m\n\u001b[0m\u001b[0;32m    394\u001b[0m \u001b[1;33m\u001b[0m\u001b[0m\n\u001b[0;32m    395\u001b[0m     \u001b[1;32mreturn\u001b[0m \u001b[0mwrap\u001b[0m\u001b[1;33m(\u001b[0m\u001b[0mr\u001b[0m\u001b[1;33m.\u001b[0m\u001b[0mastype\u001b[0m\u001b[1;33m(\u001b[0m\u001b[0mresult_t\u001b[0m\u001b[1;33m,\u001b[0m \u001b[0mcopy\u001b[0m\u001b[1;33m=\u001b[0m\u001b[1;32mFalse\u001b[0m\u001b[1;33m)\u001b[0m\u001b[1;33m)\u001b[0m\u001b[1;33m\u001b[0m\u001b[1;33m\u001b[0m\u001b[0m\n",
      "\u001b[1;31mValueError\u001b[0m: solve1: Input operand 1 has a mismatch in its core dimension 0, with gufunc signature (m,m),(m)->(m) (size 99 is different from 9999)"
     ]
    }
   ],
   "source": [
    "# on lance le chronomètre\n",
    "start = time.time()\n",
    "# boucle en temps \n",
    "for i in range(M-1,-1,-1):\n",
    "    # vecteur du second membre\n",
    "    b = -1/dt*C[i+1,1:N]\n",
    "    # ajout des conditions aux bords\n",
    "    b[0] += -0.5*(sigma/ds)**2*S[1]**2*C[i,0]\n",
    "    b[N-2] += (-0.5*(sigma/ds)**2*S[N-1]**2 - r/ds*S[N-1])*C[i,N]\n",
    "    # résolution du système Ax=b\n",
    "    C[i,1:N] = np.linalg.solve(A,b)\n",
    "end = time.time()\n",
    "print(end-start)"
   ]
  },
  {
   "cell_type": "code",
   "execution_count": 66,
   "id": "959d63ab",
   "metadata": {},
   "outputs": [
    {
     "data": {
      "text/plain": [
       "array([0.00000000e+00, 1.30809779e-36, 4.15422150e-34, ...,\n",
       "       7.46262929e+02, 7.47262961e+02, 7.48262993e+02])"
      ]
     },
     "execution_count": 66,
     "metadata": {},
     "output_type": "execute_result"
    }
   ],
   "source": [
    "# valeur de l'option à l'instant 0 (à la signature) pour différents prix d'actif\n",
    "C[0,:]"
   ]
  },
  {
   "cell_type": "code",
   "execution_count": 117,
   "id": "d8a79a61",
   "metadata": {},
   "outputs": [
    {
     "name": "stderr",
     "output_type": "stream",
     "text": [
      "<ipython-input-117-8670d0f038d3>:2: RuntimeWarning: divide by zero encountered in log\n",
      "  C0exact = S*norm.cdf((np.log(S/K)+(r+0.5*sigma**2)*T)/(sigma*np.sqrt(T))) \\\n",
      "<ipython-input-117-8670d0f038d3>:3: RuntimeWarning: divide by zero encountered in log\n",
      "  -K*np.exp(-r*T)*norm.cdf((np.log(S/K)+(r-0.5*sigma**2)*T)/(sigma*np.sqrt(T)))\n"
     ]
    }
   ],
   "source": [
    "# valeur exacte de la solution\n",
    "C0exact = S*norm.cdf((np.log(S/K)+(r+0.5*sigma**2)*T)/(sigma*np.sqrt(T))) \\\n",
    "          -K*np.exp(-r*T)*norm.cdf((np.log(S/K)+(r-0.5*sigma**2)*T)/(sigma*np.sqrt(T)))"
   ]
  },
  {
   "cell_type": "code",
   "execution_count": 68,
   "id": "a642f5a1",
   "metadata": {},
   "outputs": [
    {
     "data": {
      "text/plain": [
       "[<matplotlib.lines.Line2D at 0x1a6b6fe22e0>]"
      ]
     },
     "execution_count": 68,
     "metadata": {},
     "output_type": "execute_result"
    },
    {
     "data": {
      "image/png": "[encoded data removed]",
      "text/plain": [
       "<Figure size 432x288 with 1 Axes>"
      ]
     },
     "metadata": {
      "needs_background": "light"
     },
     "output_type": "display_data"
    }
   ],
   "source": [
    "plt.plot(S,C[0,:])\n",
    "plt.plot(S,C0exact)"
   ]
  },
  {
   "cell_type": "code",
   "execution_count": 69,
   "id": "a8dc2c05",
   "metadata": {},
   "outputs": [
    {
     "data": {
      "text/plain": [
       "0.04800842790360349"
      ]
     },
     "execution_count": 69,
     "metadata": {},
     "output_type": "execute_result"
    }
   ],
   "source": [
    "max(abs(C[0,:]-C0exact))"
   ]
  },
  {
   "cell_type": "code",
   "execution_count": 22,
   "id": "56563b09",
   "metadata": {},
   "outputs": [
    {
     "data": {
      "text/plain": [
       "array([0.00000000e+00, 6.48580256e-03, 7.40622057e+00, 6.08810806e+01,\n",
       "       1.50158536e+02, 2.48513135e+02, 3.48295354e+02, 4.48267308e+02,\n",
       "       5.48263599e+02, 6.48263083e+02, 7.48263007e+02])"
      ]
     },
     "execution_count": 22,
     "metadata": {},
     "output_type": "execute_result"
    }
   ],
   "source": [
    "C0exact"
   ]
  },
  {
   "cell_type": "code",
   "execution_count": 118,
   "id": "ad72ad70",
   "metadata": {},
   "outputs": [],
   "source": [
    "# changement de schéma => explicite en temps\n",
    "\n",
    "# initialisation de la matrice C2 (valeurs de l'option)\n",
    "C2 = np.zeros((M+1,N+1))\n",
    "# tableau des prix S\n",
    "S = ds*np.arange(N+1)\n",
    "# tableau des temps t\n",
    "t = dt*np.arange(M+1)\n",
    "# prix finaux t=T\n",
    "C2[M,:] = np.maximum(S-K,0)\n",
    "# conditions aux bords en prix\n",
    "C2[:,0] = 0.\n",
    "C2[:,N] = Smax-K*np.exp(-r*(T-t))"
   ]
  },
  {
   "cell_type": "code",
   "execution_count": 119,
   "id": "ec0557b0",
   "metadata": {},
   "outputs": [
    {
     "name": "stdout",
     "output_type": "stream",
     "text": [
      "336.7759659290314\n"
     ]
    }
   ],
   "source": [
    "# on lance le chronomètre\n",
    "start = time.time()\n",
    "# boucle en temps \n",
    "for i in range(M-1,-1,-1):\n",
    "    # boucle en prix\n",
    "    for j in range(1,N):\n",
    "        C2[i,j] = C2[i+1,j]+dt*(0.5*sigma**2*S[j]**2*(C2[i+1,j+1]-2*C2[i+1,j]+C2[i+1,j-1])/ds**2 \\\n",
    "                   +r*S[j]*(C2[i+1,j+1]-C2[i+1,j])/ds-r*C2[i+1,j])\n",
    "end = time.time()\n",
    "print(end-start)"
   ]
  },
  {
   "cell_type": "code",
   "execution_count": 121,
   "id": "03d20228",
   "metadata": {},
   "outputs": [
    {
     "data": {
      "text/plain": [
       "[<matplotlib.lines.Line2D at 0x1a6b70013a0>]"
      ]
     },
     "execution_count": 121,
     "metadata": {},
     "output_type": "execute_result"
    },
    {
     "data": {
      "image/png": "[encoded data removed]",
      "text/plain": [
       "<Figure size 432x288 with 1 Axes>"
      ]
     },
     "metadata": {
      "needs_background": "light"
     },
     "output_type": "display_data"
    }
   ],
   "source": [
    "plt.plot(S,C2[0,:])\n",
    "plt.plot(S,C0exact)"
   ]
  },
  {
   "cell_type": "code",
   "execution_count": 122,
   "id": "3b808ce4",
   "metadata": {},
   "outputs": [
    {
     "data": {
      "text/plain": [
       "0.04690248187482737"
      ]
     },
     "execution_count": 122,
     "metadata": {},
     "output_type": "execute_result"
    }
   ],
   "source": [
    "max(abs(C2[0,:]-C0exact))"
   ]
  },
  {
   "cell_type": "code",
   "execution_count": 114,
   "id": "47649291",
   "metadata": {},
   "outputs": [
    {
     "data": {
      "text/plain": [
       "array([[  0.        ,          nan,          nan, ...,          nan,\n",
       "                 nan, 748.26299256],\n",
       "       [  0.        ,          nan,          nan, ...,          nan,\n",
       "                 nan, 748.2612304 ],\n",
       "       [  0.        ,          nan,          nan, ...,          nan,\n",
       "                 nan, 748.25946822],\n",
       "       ...,\n",
       "       [  0.        ,   0.        ,   0.        , ..., 728.01377985,\n",
       "        729.01377982, 730.01377983],\n",
       "       [  0.        ,   0.        ,   0.        , ..., 728.01188993,\n",
       "        729.01188993, 730.01188992],\n",
       "       [  0.        ,   0.        ,   0.        , ..., 728.01      ,\n",
       "        729.01      , 730.01      ]])"
      ]
     },
     "execution_count": 114,
     "metadata": {},
     "output_type": "execute_result"
    }
   ],
   "source": [
    "C2"
   ]
  },
  {
   "cell_type": "code",
   "execution_count": null,
   "id": "9e91bacf",
   "metadata": {},
   "outputs": [],
   "source": []
  }
 ],
 "metadata": {
  "kernelspec": {
   "display_name": "Python 3",
   "language": "python",
   "name": "python3"
  },
  "language_info": {
   "codemirror_mode": {
    "name": "ipython",
    "version": 3
   },
   "file_extension": ".py",
   "mimetype": "text/x-python",
   "name": "python",
   "nbconvert_exporter": "python",
   "pygments_lexer": "ipython3",
   "version": "3.8.8"
  }
 },
 "nbformat": 4,
 "nbformat_minor": 5
}
